{
 "cells": [
  {
   "cell_type": "markdown",
   "metadata": {},
   "source": [
    "### 1. Import dataset & packages"
   ]
  },
  {
   "cell_type": "markdown",
   "metadata": {},
   "source": [
    "To retrieve the data, it can be loaded using sklearn.dataset library. Simply write down the following lines of code to import iris dataset."
   ]
  },
  {
   "cell_type": "code",
   "execution_count": 31,
   "metadata": {},
   "outputs": [],
   "source": [
    "import pandas as pd\n",
    "import matplotlib.pyplot as plt\n",
    "import seaborn as sns\n",
    "from sklearn.datasets import load_iris\n",
    "\n",
    "data = load_iris()"
   ]
  },
  {
   "cell_type": "markdown",
   "metadata": {},
   "source": [
    "load_iris will output a dictionary. Let's take a look at the keys the dictionary have"
   ]
  },
  {
   "cell_type": "code",
   "execution_count": 6,
   "metadata": {},
   "outputs": [
    {
     "data": {
      "text/plain": [
       "dict_keys(['data', 'target', 'target_names', 'DESCR', 'feature_names', 'filename'])"
      ]
     },
     "execution_count": 6,
     "metadata": {},
     "output_type": "execute_result"
    }
   ],
   "source": [
    "data.keys()"
   ]
  },
  {
   "cell_type": "markdown",
   "metadata": {},
   "source": [
    "From here, we can identify that the data key contain the attributes of the dataset and feature_names are the column names. We can utilise Pandas DataFrame function to convert the data and column into a dataframe for our analysis."
   ]
  },
  {
   "cell_type": "code",
   "execution_count": 7,
   "metadata": {},
   "outputs": [],
   "source": [
    "df = pd.DataFrame(data = data['data'], columns = data['feature_names'])\n",
    "df['type'] = data['target']"
   ]
  },
  {
   "cell_type": "code",
   "execution_count": 24,
   "metadata": {},
   "outputs": [
    {
     "data": {
      "text/plain": [
       "array(['setosa', 'versicolor', 'virginica'], dtype='<U10')"
      ]
     },
     "execution_count": 24,
     "metadata": {},
     "output_type": "execute_result"
    }
   ],
   "source": [
    "data['target_names']"
   ]
  },
  {
   "cell_type": "code",
   "execution_count": 21,
   "metadata": {},
   "outputs": [
    {
     "data": {
      "text/html": [
       "<div>\n",
       "<style scoped>\n",
       "    .dataframe tbody tr th:only-of-type {\n",
       "        vertical-align: middle;\n",
       "    }\n",
       "\n",
       "    .dataframe tbody tr th {\n",
       "        vertical-align: top;\n",
       "    }\n",
       "\n",
       "    .dataframe thead th {\n",
       "        text-align: right;\n",
       "    }\n",
       "</style>\n",
       "<table border=\"1\" class=\"dataframe\">\n",
       "  <thead>\n",
       "    <tr style=\"text-align: right;\">\n",
       "      <th></th>\n",
       "      <th>sepal length (cm)</th>\n",
       "      <th>sepal width (cm)</th>\n",
       "      <th>petal length (cm)</th>\n",
       "      <th>petal width (cm)</th>\n",
       "      <th>type</th>\n",
       "    </tr>\n",
       "  </thead>\n",
       "  <tbody>\n",
       "    <tr>\n",
       "      <td>0</td>\n",
       "      <td>5.1</td>\n",
       "      <td>3.5</td>\n",
       "      <td>1.4</td>\n",
       "      <td>0.2</td>\n",
       "      <td>0</td>\n",
       "    </tr>\n",
       "    <tr>\n",
       "      <td>1</td>\n",
       "      <td>4.9</td>\n",
       "      <td>3.0</td>\n",
       "      <td>1.4</td>\n",
       "      <td>0.2</td>\n",
       "      <td>0</td>\n",
       "    </tr>\n",
       "    <tr>\n",
       "      <td>2</td>\n",
       "      <td>4.7</td>\n",
       "      <td>3.2</td>\n",
       "      <td>1.3</td>\n",
       "      <td>0.2</td>\n",
       "      <td>0</td>\n",
       "    </tr>\n",
       "    <tr>\n",
       "      <td>3</td>\n",
       "      <td>4.6</td>\n",
       "      <td>3.1</td>\n",
       "      <td>1.5</td>\n",
       "      <td>0.2</td>\n",
       "      <td>0</td>\n",
       "    </tr>\n",
       "    <tr>\n",
       "      <td>4</td>\n",
       "      <td>5.0</td>\n",
       "      <td>3.6</td>\n",
       "      <td>1.4</td>\n",
       "      <td>0.2</td>\n",
       "      <td>0</td>\n",
       "    </tr>\n",
       "  </tbody>\n",
       "</table>\n",
       "</div>"
      ],
      "text/plain": [
       "   sepal length (cm)  sepal width (cm)  petal length (cm)  petal width (cm)  \\\n",
       "0                5.1               3.5                1.4               0.2   \n",
       "1                4.9               3.0                1.4               0.2   \n",
       "2                4.7               3.2                1.3               0.2   \n",
       "3                4.6               3.1                1.5               0.2   \n",
       "4                5.0               3.6                1.4               0.2   \n",
       "\n",
       "   type  \n",
       "0     0  \n",
       "1     0  \n",
       "2     0  \n",
       "3     0  \n",
       "4     0  "
      ]
     },
     "execution_count": 21,
     "metadata": {},
     "output_type": "execute_result"
    }
   ],
   "source": [
    "df.head()"
   ]
  },
  {
   "cell_type": "markdown",
   "metadata": {},
   "source": [
    "### 2. Data Wrangling"
   ]
  },
  {
   "cell_type": "code",
   "execution_count": 22,
   "metadata": {},
   "outputs": [
    {
     "data": {
      "text/html": [
       "<div>\n",
       "<style scoped>\n",
       "    .dataframe tbody tr th:only-of-type {\n",
       "        vertical-align: middle;\n",
       "    }\n",
       "\n",
       "    .dataframe tbody tr th {\n",
       "        vertical-align: top;\n",
       "    }\n",
       "\n",
       "    .dataframe thead th {\n",
       "        text-align: right;\n",
       "    }\n",
       "</style>\n",
       "<table border=\"1\" class=\"dataframe\">\n",
       "  <thead>\n",
       "    <tr style=\"text-align: right;\">\n",
       "      <th></th>\n",
       "      <th>sepal length (cm)</th>\n",
       "      <th>sepal width (cm)</th>\n",
       "      <th>petal length (cm)</th>\n",
       "      <th>petal width (cm)</th>\n",
       "      <th>type</th>\n",
       "    </tr>\n",
       "  </thead>\n",
       "  <tbody>\n",
       "    <tr>\n",
       "      <td>0</td>\n",
       "      <td>5.1</td>\n",
       "      <td>3.5</td>\n",
       "      <td>1.4</td>\n",
       "      <td>0.2</td>\n",
       "      <td>0</td>\n",
       "    </tr>\n",
       "    <tr>\n",
       "      <td>1</td>\n",
       "      <td>4.9</td>\n",
       "      <td>3.0</td>\n",
       "      <td>1.4</td>\n",
       "      <td>0.2</td>\n",
       "      <td>0</td>\n",
       "    </tr>\n",
       "    <tr>\n",
       "      <td>2</td>\n",
       "      <td>4.7</td>\n",
       "      <td>3.2</td>\n",
       "      <td>1.3</td>\n",
       "      <td>0.2</td>\n",
       "      <td>0</td>\n",
       "    </tr>\n",
       "    <tr>\n",
       "      <td>3</td>\n",
       "      <td>4.6</td>\n",
       "      <td>3.1</td>\n",
       "      <td>1.5</td>\n",
       "      <td>0.2</td>\n",
       "      <td>0</td>\n",
       "    </tr>\n",
       "    <tr>\n",
       "      <td>4</td>\n",
       "      <td>5.0</td>\n",
       "      <td>3.6</td>\n",
       "      <td>1.4</td>\n",
       "      <td>0.2</td>\n",
       "      <td>0</td>\n",
       "    </tr>\n",
       "  </tbody>\n",
       "</table>\n",
       "</div>"
      ],
      "text/plain": [
       "   sepal length (cm)  sepal width (cm)  petal length (cm)  petal width (cm)  \\\n",
       "0                5.1               3.5                1.4               0.2   \n",
       "1                4.9               3.0                1.4               0.2   \n",
       "2                4.7               3.2                1.3               0.2   \n",
       "3                4.6               3.1                1.5               0.2   \n",
       "4                5.0               3.6                1.4               0.2   \n",
       "\n",
       "   type  \n",
       "0     0  \n",
       "1     0  \n",
       "2     0  \n",
       "3     0  \n",
       "4     0  "
      ]
     },
     "execution_count": 22,
     "metadata": {},
     "output_type": "execute_result"
    }
   ],
   "source": [
    "df.head()"
   ]
  },
  {
   "cell_type": "code",
   "execution_count": 23,
   "metadata": {},
   "outputs": [
    {
     "data": {
      "text/html": [
       "<div>\n",
       "<style scoped>\n",
       "    .dataframe tbody tr th:only-of-type {\n",
       "        vertical-align: middle;\n",
       "    }\n",
       "\n",
       "    .dataframe tbody tr th {\n",
       "        vertical-align: top;\n",
       "    }\n",
       "\n",
       "    .dataframe thead th {\n",
       "        text-align: right;\n",
       "    }\n",
       "</style>\n",
       "<table border=\"1\" class=\"dataframe\">\n",
       "  <thead>\n",
       "    <tr style=\"text-align: right;\">\n",
       "      <th></th>\n",
       "      <th>sepal length (cm)</th>\n",
       "      <th>sepal width (cm)</th>\n",
       "      <th>petal length (cm)</th>\n",
       "      <th>petal width (cm)</th>\n",
       "      <th>type</th>\n",
       "    </tr>\n",
       "  </thead>\n",
       "  <tbody>\n",
       "    <tr>\n",
       "      <td>count</td>\n",
       "      <td>150.000000</td>\n",
       "      <td>150.000000</td>\n",
       "      <td>150.000000</td>\n",
       "      <td>150.000000</td>\n",
       "      <td>150.000000</td>\n",
       "    </tr>\n",
       "    <tr>\n",
       "      <td>mean</td>\n",
       "      <td>5.843333</td>\n",
       "      <td>3.057333</td>\n",
       "      <td>3.758000</td>\n",
       "      <td>1.199333</td>\n",
       "      <td>1.000000</td>\n",
       "    </tr>\n",
       "    <tr>\n",
       "      <td>std</td>\n",
       "      <td>0.828066</td>\n",
       "      <td>0.435866</td>\n",
       "      <td>1.765298</td>\n",
       "      <td>0.762238</td>\n",
       "      <td>0.819232</td>\n",
       "    </tr>\n",
       "    <tr>\n",
       "      <td>min</td>\n",
       "      <td>4.300000</td>\n",
       "      <td>2.000000</td>\n",
       "      <td>1.000000</td>\n",
       "      <td>0.100000</td>\n",
       "      <td>0.000000</td>\n",
       "    </tr>\n",
       "    <tr>\n",
       "      <td>25%</td>\n",
       "      <td>5.100000</td>\n",
       "      <td>2.800000</td>\n",
       "      <td>1.600000</td>\n",
       "      <td>0.300000</td>\n",
       "      <td>0.000000</td>\n",
       "    </tr>\n",
       "    <tr>\n",
       "      <td>50%</td>\n",
       "      <td>5.800000</td>\n",
       "      <td>3.000000</td>\n",
       "      <td>4.350000</td>\n",
       "      <td>1.300000</td>\n",
       "      <td>1.000000</td>\n",
       "    </tr>\n",
       "    <tr>\n",
       "      <td>75%</td>\n",
       "      <td>6.400000</td>\n",
       "      <td>3.300000</td>\n",
       "      <td>5.100000</td>\n",
       "      <td>1.800000</td>\n",
       "      <td>2.000000</td>\n",
       "    </tr>\n",
       "    <tr>\n",
       "      <td>max</td>\n",
       "      <td>7.900000</td>\n",
       "      <td>4.400000</td>\n",
       "      <td>6.900000</td>\n",
       "      <td>2.500000</td>\n",
       "      <td>2.000000</td>\n",
       "    </tr>\n",
       "  </tbody>\n",
       "</table>\n",
       "</div>"
      ],
      "text/plain": [
       "       sepal length (cm)  sepal width (cm)  petal length (cm)  \\\n",
       "count         150.000000        150.000000         150.000000   \n",
       "mean            5.843333          3.057333           3.758000   \n",
       "std             0.828066          0.435866           1.765298   \n",
       "min             4.300000          2.000000           1.000000   \n",
       "25%             5.100000          2.800000           1.600000   \n",
       "50%             5.800000          3.000000           4.350000   \n",
       "75%             6.400000          3.300000           5.100000   \n",
       "max             7.900000          4.400000           6.900000   \n",
       "\n",
       "       petal width (cm)        type  \n",
       "count        150.000000  150.000000  \n",
       "mean           1.199333    1.000000  \n",
       "std            0.762238    0.819232  \n",
       "min            0.100000    0.000000  \n",
       "25%            0.300000    0.000000  \n",
       "50%            1.300000    1.000000  \n",
       "75%            1.800000    2.000000  \n",
       "max            2.500000    2.000000  "
      ]
     },
     "execution_count": 23,
     "metadata": {},
     "output_type": "execute_result"
    }
   ],
   "source": [
    "df.describe()"
   ]
  },
  {
   "cell_type": "code",
   "execution_count": 25,
   "metadata": {},
   "outputs": [],
   "source": [
    "df['flower_type'] = df['type'].map({0: 'setosa', 1: 'versicolor', 2: 'virginica'})"
   ]
  },
  {
   "cell_type": "code",
   "execution_count": 26,
   "metadata": {},
   "outputs": [
    {
     "data": {
      "text/html": [
       "<div>\n",
       "<style scoped>\n",
       "    .dataframe tbody tr th:only-of-type {\n",
       "        vertical-align: middle;\n",
       "    }\n",
       "\n",
       "    .dataframe tbody tr th {\n",
       "        vertical-align: top;\n",
       "    }\n",
       "\n",
       "    .dataframe thead th {\n",
       "        text-align: right;\n",
       "    }\n",
       "</style>\n",
       "<table border=\"1\" class=\"dataframe\">\n",
       "  <thead>\n",
       "    <tr style=\"text-align: right;\">\n",
       "      <th></th>\n",
       "      <th>sepal length (cm)</th>\n",
       "      <th>sepal width (cm)</th>\n",
       "      <th>petal length (cm)</th>\n",
       "      <th>petal width (cm)</th>\n",
       "      <th>type</th>\n",
       "      <th>flower_type</th>\n",
       "    </tr>\n",
       "  </thead>\n",
       "  <tbody>\n",
       "    <tr>\n",
       "      <td>0</td>\n",
       "      <td>5.1</td>\n",
       "      <td>3.5</td>\n",
       "      <td>1.4</td>\n",
       "      <td>0.2</td>\n",
       "      <td>0</td>\n",
       "      <td>setosa</td>\n",
       "    </tr>\n",
       "    <tr>\n",
       "      <td>1</td>\n",
       "      <td>4.9</td>\n",
       "      <td>3.0</td>\n",
       "      <td>1.4</td>\n",
       "      <td>0.2</td>\n",
       "      <td>0</td>\n",
       "      <td>setosa</td>\n",
       "    </tr>\n",
       "    <tr>\n",
       "      <td>2</td>\n",
       "      <td>4.7</td>\n",
       "      <td>3.2</td>\n",
       "      <td>1.3</td>\n",
       "      <td>0.2</td>\n",
       "      <td>0</td>\n",
       "      <td>setosa</td>\n",
       "    </tr>\n",
       "    <tr>\n",
       "      <td>3</td>\n",
       "      <td>4.6</td>\n",
       "      <td>3.1</td>\n",
       "      <td>1.5</td>\n",
       "      <td>0.2</td>\n",
       "      <td>0</td>\n",
       "      <td>setosa</td>\n",
       "    </tr>\n",
       "    <tr>\n",
       "      <td>4</td>\n",
       "      <td>5.0</td>\n",
       "      <td>3.6</td>\n",
       "      <td>1.4</td>\n",
       "      <td>0.2</td>\n",
       "      <td>0</td>\n",
       "      <td>setosa</td>\n",
       "    </tr>\n",
       "  </tbody>\n",
       "</table>\n",
       "</div>"
      ],
      "text/plain": [
       "   sepal length (cm)  sepal width (cm)  petal length (cm)  petal width (cm)  \\\n",
       "0                5.1               3.5                1.4               0.2   \n",
       "1                4.9               3.0                1.4               0.2   \n",
       "2                4.7               3.2                1.3               0.2   \n",
       "3                4.6               3.1                1.5               0.2   \n",
       "4                5.0               3.6                1.4               0.2   \n",
       "\n",
       "   type flower_type  \n",
       "0     0      setosa  \n",
       "1     0      setosa  \n",
       "2     0      setosa  \n",
       "3     0      setosa  \n",
       "4     0      setosa  "
      ]
     },
     "execution_count": 26,
     "metadata": {},
     "output_type": "execute_result"
    }
   ],
   "source": [
    "df.head()"
   ]
  },
  {
   "cell_type": "code",
   "execution_count": 28,
   "metadata": {},
   "outputs": [
    {
     "data": {
      "text/plain": [
       "virginica     50\n",
       "setosa        50\n",
       "versicolor    50\n",
       "Name: flower_type, dtype: int64"
      ]
     },
     "execution_count": 28,
     "metadata": {},
     "output_type": "execute_result"
    }
   ],
   "source": [
    "#view the distribution of flower types\n",
    "df['flower_type'].value_counts()"
   ]
  },
  {
   "cell_type": "markdown",
   "metadata": {},
   "source": [
    "### 3. Data Exploratory Analysis"
   ]
  },
  {
   "cell_type": "markdown",
   "metadata": {},
   "source": [
    "Questions that I am interested in understanding:\n",
    "\n",
    "    1) Is there a big difference in Sepal length for each flower?\n",
    "    2) Which attribute has the greatest effect in predicting the flower type? (correlation)"
   ]
  },
  {
   "cell_type": "code",
   "execution_count": 49,
   "metadata": {},
   "outputs": [
    {
     "data": {
      "text/plain": [
       "<matplotlib.axes._subplots.AxesSubplot at 0x7fdb9d234290>"
      ]
     },
     "execution_count": 49,
     "metadata": {},
     "output_type": "execute_result"
    },
    {
     "data": {
      "image/png": "[encoded data removed]",
      "text/plain": [
       "<Figure size 432x288 with 1 Axes>"
      ]
     },
     "metadata": {
      "needs_background": "light"
     },
     "output_type": "display_data"
    }
   ],
   "source": [
    "# What is the difference in sepal length for each flower\n",
    "\n",
    "temp_df = df.groupby('flower_type').mean()[['sepal length (cm)']].reset_index()\n",
    "\n",
    "sns.barplot(x = 'flower_type', y = 'sepal length (cm)', data = temp_df)"
   ]
  },
  {
   "cell_type": "code",
   "execution_count": 51,
   "metadata": {},
   "outputs": [
    {
     "data": {
      "text/plain": [
       "<matplotlib.axes._subplots.AxesSubplot at 0x7fdb9bb8ab90>"
      ]
     },
     "execution_count": 51,
     "metadata": {},
     "output_type": "execute_result"
    },
    {
     "data": {
      "image/png": "[encoded data removed]",
      "text/plain": [
       "<Figure size 432x288 with 1 Axes>"
      ]
     },
     "metadata": {
      "needs_background": "light"
     },
     "output_type": "display_data"
    }
   ],
   "source": [
    "# What is the difference in sepal width for each flower\n",
    "\n",
    "temp_df = df.groupby('flower_type').mean()[['sepal width (cm)']].reset_index()\n",
    "\n",
    "sns.barplot(x = 'flower_type', y = 'sepal width (cm)', data = temp_df)"
   ]
  },
  {
   "cell_type": "code",
   "execution_count": 52,
   "metadata": {},
   "outputs": [
    {
     "data": {
      "text/plain": [
       "<matplotlib.axes._subplots.AxesSubplot at 0x7fdb9d4e5bd0>"
      ]
     },
     "execution_count": 52,
     "metadata": {},
     "output_type": "execute_result"
    },
    {
     "data": {
      "image/png": "[encoded data removed]",
      "text/plain": [
       "<Figure size 432x288 with 1 Axes>"
      ]
     },
     "metadata": {
      "needs_background": "light"
     },
     "output_type": "display_data"
    }
   ],
   "source": [
    "# What is the difference in petal length (cm) for each flower\n",
    "\n",
    "temp_df = df.groupby('flower_type').mean()[['petal length (cm)']].reset_index()\n",
    "\n",
    "sns.barplot(x = 'flower_type', y = 'petal length (cm)', data = temp_df)"
   ]
  },
  {
   "cell_type": "code",
   "execution_count": 53,
   "metadata": {},
   "outputs": [
    {
     "data": {
      "text/plain": [
       "<matplotlib.axes._subplots.AxesSubplot at 0x7fdb9d4d35d0>"
      ]
     },
     "execution_count": 53,
     "metadata": {},
     "output_type": "execute_result"
    },
    {
     "data": {
      "image/png": "[encoded data removed]",
      "text/plain": [
       "<Figure size 432x288 with 1 Axes>"
      ]
     },
     "metadata": {
      "needs_background": "light"
     },
     "output_type": "display_data"
    }
   ],
   "source": [
    "# What is the difference in petal width (cm) for each flower\n",
    "\n",
    "temp_df = df.groupby('flower_type').mean()[['petal width (cm)']].reset_index()\n",
    "\n",
    "sns.barplot(x = 'flower_type', y = 'petal width (cm)', data = temp_df)"
   ]
  },
  {
   "cell_type": "markdown",
   "metadata": {},
   "source": [
    "From the pleminary analysis, it can be observed that the flower \"virginica\" is the biggest flower compared to the others with the biggest petal length and width, and also for sepal length on average. Like-wise, \"setosa\" is the smallest flower with a large sepal size. \n",
    "\n",
    "\n",
    "This can be a possible predictor in identifying the flower with newer data."
   ]
  },
  {
   "cell_type": "code",
   "execution_count": 70,
   "metadata": {},
   "outputs": [
    {
     "data": {
      "text/plain": [
       "<matplotlib.axes._subplots.AxesSubplot at 0x7fdb9f516690>"
      ]
     },
     "execution_count": 70,
     "metadata": {},
     "output_type": "execute_result"
    },
    {
     "data": {
      "image/png": "[encoded data removed]",
      "text/plain": [
       "<Figure size 1080x720 with 2 Axes>"
      ]
     },
     "metadata": {
      "needs_background": "light"
     },
     "output_type": "display_data"
    }
   ],
   "source": [
    "# visualising correlation with heatmap\n",
    "\n",
    "fig, ax = plt.subplots(figsize = (15,10))\n",
    "\n",
    "sns.heatmap(df.corr(), ax = ax, annot = True)\n",
    "\n",
    "#does combininig values increase corr?"
   ]
  },
  {
   "cell_type": "markdown",
   "metadata": {},
   "source": [
    "From the heatmap above, it can be observed taht the petal width and petal length is a great predictor of the flower type"
   ]
  },
  {
   "cell_type": "markdown",
   "metadata": {},
   "source": [
    "### 4. Machine Learning Model"
   ]
  },
  {
   "cell_type": "code",
   "execution_count": 132,
   "metadata": {},
   "outputs": [],
   "source": [
    "import keras\n",
    "from keras.models import Sequential\n",
    "from keras.layers import Dense\n",
    "\n",
    "#preparing for machine learning \n",
    "x = df.iloc[:, :-2].values\n",
    "y = pd.get_dummies(df['type']).values\n",
    "\n",
    "# split into training and testing\n",
    "from sklearn.model_selection import train_test_split\n",
    "x_train,x_test,y_train,y_test = train_test_split(x,y, test_size = 0.2)\n",
    "\n",
    "# standard scaler\n",
    "from sklearn.preprocessing import StandardScaler\n",
    "sc = StandardScaler()\n",
    "x_train = sc.fit_transform(x_train)\n",
    "x_test = sc.transform(x_test)"
   ]
  },
  {
   "cell_type": "code",
   "execution_count": 135,
   "metadata": {},
   "outputs": [
    {
     "name": "stdout",
     "output_type": "stream",
     "text": [
      "Train on 108 samples, validate on 12 samples\n",
      "Epoch 1/200\n",
      "108/108 [==============================] - 0s 2ms/step - loss: 1.0948 - accuracy: 0.5926 - val_loss: 1.0895 - val_accuracy: 0.5000\n",
      "Epoch 2/200\n",
      "108/108 [==============================] - 0s 383us/step - loss: 1.0839 - accuracy: 0.8056 - val_loss: 1.0711 - val_accuracy: 0.9167\n",
      "Epoch 3/200\n",
      "108/108 [==============================] - 0s 382us/step - loss: 1.0617 - accuracy: 0.8333 - val_loss: 1.0364 - val_accuracy: 1.0000\n",
      "Epoch 4/200\n",
      "108/108 [==============================] - 0s 376us/step - loss: 1.0259 - accuracy: 0.8056 - val_loss: 0.9779 - val_accuracy: 1.0000\n",
      "Epoch 5/200\n",
      "108/108 [==============================] - 0s 378us/step - loss: 0.9741 - accuracy: 0.7500 - val_loss: 0.9015 - val_accuracy: 1.0000\n",
      "Epoch 6/200\n",
      "108/108 [==============================] - 0s 387us/step - loss: 0.9096 - accuracy: 0.6852 - val_loss: 0.8073 - val_accuracy: 1.0000\n",
      "Epoch 7/200\n",
      "108/108 [==============================] - 0s 395us/step - loss: 0.8406 - accuracy: 0.6574 - val_loss: 0.7092 - val_accuracy: 1.0000\n",
      "Epoch 8/200\n",
      "108/108 [==============================] - 0s 355us/step - loss: 0.7729 - accuracy: 0.6481 - val_loss: 0.6111 - val_accuracy: 1.0000\n",
      "Epoch 9/200\n",
      "108/108 [==============================] - 0s 390us/step - loss: 0.7130 - accuracy: 0.6389 - val_loss: 0.5357 - val_accuracy: 1.0000\n",
      "Epoch 10/200\n",
      "108/108 [==============================] - 0s 373us/step - loss: 0.6641 - accuracy: 0.6481 - val_loss: 0.4723 - val_accuracy: 1.0000\n",
      "Epoch 11/200\n",
      "108/108 [==============================] - 0s 372us/step - loss: 0.6258 - accuracy: 0.6667 - val_loss: 0.4155 - val_accuracy: 1.0000\n",
      "Epoch 12/200\n",
      "108/108 [==============================] - 0s 450us/step - loss: 0.5929 - accuracy: 0.6759 - val_loss: 0.3796 - val_accuracy: 1.0000\n",
      "Epoch 13/200\n",
      "108/108 [==============================] - 0s 377us/step - loss: 0.5673 - accuracy: 0.6759 - val_loss: 0.3470 - val_accuracy: 1.0000\n",
      "Epoch 14/200\n",
      "108/108 [==============================] - 0s 379us/step - loss: 0.5459 - accuracy: 0.6759 - val_loss: 0.3250 - val_accuracy: 1.0000\n",
      "Epoch 15/200\n",
      "108/108 [==============================] - 0s 376us/step - loss: 0.5290 - accuracy: 0.7037 - val_loss: 0.3185 - val_accuracy: 1.0000\n",
      "Epoch 16/200\n",
      "108/108 [==============================] - 0s 366us/step - loss: 0.5117 - accuracy: 0.7222 - val_loss: 0.2999 - val_accuracy: 1.0000\n",
      "Epoch 17/200\n",
      "108/108 [==============================] - 0s 380us/step - loss: 0.4981 - accuracy: 0.7500 - val_loss: 0.2801 - val_accuracy: 1.0000\n",
      "Epoch 18/200\n",
      "108/108 [==============================] - 0s 369us/step - loss: 0.4849 - accuracy: 0.7685 - val_loss: 0.2787 - val_accuracy: 1.0000\n",
      "Epoch 19/200\n",
      "108/108 [==============================] - 0s 375us/step - loss: 0.4733 - accuracy: 0.7870 - val_loss: 0.2693 - val_accuracy: 1.0000\n",
      "Epoch 20/200\n",
      "108/108 [==============================] - 0s 354us/step - loss: 0.4621 - accuracy: 0.7870 - val_loss: 0.2712 - val_accuracy: 1.0000\n",
      "Epoch 21/200\n",
      "108/108 [==============================] - 0s 374us/step - loss: 0.4517 - accuracy: 0.7963 - val_loss: 0.2611 - val_accuracy: 1.0000\n",
      "Epoch 22/200\n",
      "108/108 [==============================] - 0s 370us/step - loss: 0.4418 - accuracy: 0.7963 - val_loss: 0.2527 - val_accuracy: 1.0000\n",
      "Epoch 23/200\n",
      "108/108 [==============================] - 0s 377us/step - loss: 0.4318 - accuracy: 0.8148 - val_loss: 0.2553 - val_accuracy: 1.0000\n",
      "Epoch 24/200\n",
      "108/108 [==============================] - 0s 362us/step - loss: 0.4228 - accuracy: 0.8148 - val_loss: 0.2514 - val_accuracy: 1.0000\n",
      "Epoch 25/200\n",
      "108/108 [==============================] - 0s 378us/step - loss: 0.4142 - accuracy: 0.8241 - val_loss: 0.2544 - val_accuracy: 1.0000\n",
      "Epoch 26/200\n",
      "108/108 [==============================] - 0s 358us/step - loss: 0.4063 - accuracy: 0.8519 - val_loss: 0.2396 - val_accuracy: 1.0000\n",
      "Epoch 27/200\n",
      "108/108 [==============================] - 0s 377us/step - loss: 0.3969 - accuracy: 0.8519 - val_loss: 0.2467 - val_accuracy: 1.0000\n",
      "Epoch 28/200\n",
      "108/108 [==============================] - 0s 367us/step - loss: 0.3893 - accuracy: 0.8519 - val_loss: 0.2440 - val_accuracy: 1.0000\n",
      "Epoch 29/200\n",
      "108/108 [==============================] - 0s 373us/step - loss: 0.3814 - accuracy: 0.8519 - val_loss: 0.2399 - val_accuracy: 1.0000\n",
      "Epoch 30/200\n",
      "108/108 [==============================] - 0s 363us/step - loss: 0.3741 - accuracy: 0.8519 - val_loss: 0.2323 - val_accuracy: 1.0000\n",
      "Epoch 31/200\n",
      "108/108 [==============================] - 0s 375us/step - loss: 0.3667 - accuracy: 0.8519 - val_loss: 0.2279 - val_accuracy: 1.0000\n",
      "Epoch 32/200\n",
      "108/108 [==============================] - 0s 380us/step - loss: 0.3598 - accuracy: 0.8611 - val_loss: 0.2251 - val_accuracy: 1.0000\n",
      "Epoch 33/200\n",
      "108/108 [==============================] - 0s 382us/step - loss: 0.3528 - accuracy: 0.8611 - val_loss: 0.2239 - val_accuracy: 1.0000\n",
      "Epoch 34/200\n",
      "108/108 [==============================] - 0s 351us/step - loss: 0.3464 - accuracy: 0.8611 - val_loss: 0.2224 - val_accuracy: 1.0000\n",
      "Epoch 35/200\n",
      "108/108 [==============================] - 0s 368us/step - loss: 0.3394 - accuracy: 0.8611 - val_loss: 0.2214 - val_accuracy: 1.0000\n",
      "Epoch 36/200\n",
      "108/108 [==============================] - 0s 384us/step - loss: 0.3336 - accuracy: 0.8611 - val_loss: 0.2306 - val_accuracy: 1.0000\n",
      "Epoch 37/200\n",
      "108/108 [==============================] - 0s 366us/step - loss: 0.3278 - accuracy: 0.8704 - val_loss: 0.2183 - val_accuracy: 1.0000\n",
      "Epoch 38/200\n",
      "108/108 [==============================] - 0s 379us/step - loss: 0.3216 - accuracy: 0.8704 - val_loss: 0.2222 - val_accuracy: 1.0000\n",
      "Epoch 39/200\n",
      "108/108 [==============================] - 0s 353us/step - loss: 0.3175 - accuracy: 0.8704 - val_loss: 0.2096 - val_accuracy: 1.0000\n",
      "Epoch 40/200\n",
      "108/108 [==============================] - 0s 378us/step - loss: 0.3106 - accuracy: 0.8704 - val_loss: 0.2167 - val_accuracy: 1.0000\n",
      "Epoch 41/200\n",
      "108/108 [==============================] - 0s 374us/step - loss: 0.3055 - accuracy: 0.8796 - val_loss: 0.2151 - val_accuracy: 0.9167\n",
      "Epoch 42/200\n",
      "108/108 [==============================] - 0s 356us/step - loss: 0.3005 - accuracy: 0.8796 - val_loss: 0.2007 - val_accuracy: 1.0000\n",
      "Epoch 43/200\n",
      "108/108 [==============================] - 0s 398us/step - loss: 0.2949 - accuracy: 0.8796 - val_loss: 0.1995 - val_accuracy: 1.0000\n",
      "Epoch 44/200\n",
      "108/108 [==============================] - 0s 373us/step - loss: 0.2901 - accuracy: 0.8796 - val_loss: 0.1999 - val_accuracy: 1.0000\n",
      "Epoch 45/200\n",
      "108/108 [==============================] - 0s 367us/step - loss: 0.2852 - accuracy: 0.8889 - val_loss: 0.2034 - val_accuracy: 0.9167\n",
      "Epoch 46/200\n",
      "108/108 [==============================] - 0s 369us/step - loss: 0.2809 - accuracy: 0.9167 - val_loss: 0.2055 - val_accuracy: 0.9167\n",
      "Epoch 47/200\n",
      "108/108 [==============================] - 0s 409us/step - loss: 0.2759 - accuracy: 0.8981 - val_loss: 0.1904 - val_accuracy: 1.0000\n",
      "Epoch 48/200\n",
      "108/108 [==============================] - 0s 400us/step - loss: 0.2714 - accuracy: 0.9074 - val_loss: 0.1917 - val_accuracy: 0.9167\n",
      "Epoch 49/200\n",
      "108/108 [==============================] - 0s 367us/step - loss: 0.2686 - accuracy: 0.9259 - val_loss: 0.2014 - val_accuracy: 0.9167\n",
      "Epoch 50/200\n",
      "108/108 [==============================] - 0s 365us/step - loss: 0.2622 - accuracy: 0.9259 - val_loss: 0.1881 - val_accuracy: 0.9167\n",
      "Epoch 51/200\n",
      "108/108 [==============================] - 0s 368us/step - loss: 0.2584 - accuracy: 0.9167 - val_loss: 0.1837 - val_accuracy: 0.9167\n",
      "Epoch 52/200\n",
      "108/108 [==============================] - 0s 361us/step - loss: 0.2542 - accuracy: 0.9167 - val_loss: 0.1894 - val_accuracy: 0.9167\n",
      "Epoch 53/200\n",
      "108/108 [==============================] - 0s 371us/step - loss: 0.2499 - accuracy: 0.9259 - val_loss: 0.1855 - val_accuracy: 0.9167\n",
      "Epoch 54/200\n",
      "108/108 [==============================] - 0s 355us/step - loss: 0.2460 - accuracy: 0.9259 - val_loss: 0.1810 - val_accuracy: 0.9167\n",
      "Epoch 55/200\n",
      "108/108 [==============================] - 0s 374us/step - loss: 0.2428 - accuracy: 0.9259 - val_loss: 0.1801 - val_accuracy: 0.9167\n",
      "Epoch 56/200\n",
      "108/108 [==============================] - 0s 350us/step - loss: 0.2382 - accuracy: 0.9259 - val_loss: 0.1819 - val_accuracy: 0.9167\n",
      "Epoch 57/200\n",
      "108/108 [==============================] - 0s 399us/step - loss: 0.2339 - accuracy: 0.9259 - val_loss: 0.1758 - val_accuracy: 0.9167\n",
      "Epoch 58/200\n",
      "108/108 [==============================] - 0s 364us/step - loss: 0.2302 - accuracy: 0.9259 - val_loss: 0.1744 - val_accuracy: 0.9167\n",
      "Epoch 59/200\n",
      "108/108 [==============================] - 0s 372us/step - loss: 0.2265 - accuracy: 0.9259 - val_loss: 0.1724 - val_accuracy: 0.9167\n",
      "Epoch 60/200\n",
      "108/108 [==============================] - 0s 365us/step - loss: 0.2232 - accuracy: 0.9259 - val_loss: 0.1665 - val_accuracy: 0.9167\n",
      "Epoch 61/200\n",
      "108/108 [==============================] - 0s 362us/step - loss: 0.2192 - accuracy: 0.9259 - val_loss: 0.1706 - val_accuracy: 0.9167\n",
      "Epoch 62/200\n",
      "108/108 [==============================] - 0s 368us/step - loss: 0.2157 - accuracy: 0.9444 - val_loss: 0.1659 - val_accuracy: 0.9167\n",
      "Epoch 63/200\n",
      "108/108 [==============================] - 0s 363us/step - loss: 0.2123 - accuracy: 0.9444 - val_loss: 0.1714 - val_accuracy: 0.9167\n",
      "Epoch 64/200\n",
      "108/108 [==============================] - 0s 345us/step - loss: 0.2088 - accuracy: 0.9352 - val_loss: 0.1646 - val_accuracy: 0.9167\n",
      "Epoch 65/200\n",
      "108/108 [==============================] - 0s 408us/step - loss: 0.2052 - accuracy: 0.9352 - val_loss: 0.1633 - val_accuracy: 0.9167\n",
      "Epoch 66/200\n",
      "108/108 [==============================] - 0s 421us/step - loss: 0.2019 - accuracy: 0.9352 - val_loss: 0.1692 - val_accuracy: 0.9167\n",
      "Epoch 67/200\n",
      "108/108 [==============================] - 0s 406us/step - loss: 0.1988 - accuracy: 0.9352 - val_loss: 0.1638 - val_accuracy: 0.9167\n",
      "Epoch 68/200\n",
      "108/108 [==============================] - 0s 391us/step - loss: 0.1951 - accuracy: 0.9352 - val_loss: 0.1626 - val_accuracy: 0.9167\n",
      "Epoch 69/200\n",
      "108/108 [==============================] - 0s 366us/step - loss: 0.1919 - accuracy: 0.9352 - val_loss: 0.1608 - val_accuracy: 0.9167\n",
      "Epoch 70/200\n",
      "108/108 [==============================] - 0s 395us/step - loss: 0.1887 - accuracy: 0.9352 - val_loss: 0.1584 - val_accuracy: 0.9167\n",
      "Epoch 71/200\n",
      "108/108 [==============================] - 0s 391us/step - loss: 0.1852 - accuracy: 0.9352 - val_loss: 0.1488 - val_accuracy: 1.0000\n",
      "Epoch 72/200\n",
      "108/108 [==============================] - 0s 379us/step - loss: 0.1830 - accuracy: 0.9352 - val_loss: 0.1503 - val_accuracy: 1.0000\n",
      "Epoch 73/200\n",
      "108/108 [==============================] - 0s 400us/step - loss: 0.1794 - accuracy: 0.9444 - val_loss: 0.1492 - val_accuracy: 1.0000\n",
      "Epoch 74/200\n",
      "108/108 [==============================] - 0s 353us/step - loss: 0.1766 - accuracy: 0.9444 - val_loss: 0.1490 - val_accuracy: 1.0000\n",
      "Epoch 75/200\n",
      "108/108 [==============================] - 0s 377us/step - loss: 0.1738 - accuracy: 0.9444 - val_loss: 0.1452 - val_accuracy: 1.0000\n",
      "Epoch 76/200\n",
      "108/108 [==============================] - 0s 398us/step - loss: 0.1710 - accuracy: 0.9444 - val_loss: 0.1452 - val_accuracy: 1.0000\n",
      "Epoch 77/200\n",
      "108/108 [==============================] - 0s 356us/step - loss: 0.1685 - accuracy: 0.9444 - val_loss: 0.1433 - val_accuracy: 1.0000\n",
      "Epoch 78/200\n",
      "108/108 [==============================] - 0s 386us/step - loss: 0.1660 - accuracy: 0.9444 - val_loss: 0.1496 - val_accuracy: 0.9167\n",
      "Epoch 79/200\n",
      "108/108 [==============================] - 0s 385us/step - loss: 0.1630 - accuracy: 0.9444 - val_loss: 0.1472 - val_accuracy: 1.0000\n",
      "Epoch 80/200\n",
      "108/108 [==============================] - 0s 366us/step - loss: 0.1605 - accuracy: 0.9444 - val_loss: 0.1430 - val_accuracy: 1.0000\n",
      "Epoch 81/200\n",
      "108/108 [==============================] - 0s 354us/step - loss: 0.1579 - accuracy: 0.9444 - val_loss: 0.1456 - val_accuracy: 0.9167\n",
      "Epoch 82/200\n",
      "108/108 [==============================] - 0s 365us/step - loss: 0.1555 - accuracy: 0.9444 - val_loss: 0.1444 - val_accuracy: 1.0000\n",
      "Epoch 83/200\n",
      "108/108 [==============================] - 0s 387us/step - loss: 0.1529 - accuracy: 0.9444 - val_loss: 0.1404 - val_accuracy: 1.0000\n",
      "Epoch 84/200\n",
      "108/108 [==============================] - 0s 379us/step - loss: 0.1506 - accuracy: 0.9444 - val_loss: 0.1382 - val_accuracy: 1.0000\n",
      "Epoch 85/200\n",
      "108/108 [==============================] - 0s 402us/step - loss: 0.1484 - accuracy: 0.9444 - val_loss: 0.1358 - val_accuracy: 1.0000\n",
      "Epoch 86/200\n",
      "108/108 [==============================] - 0s 384us/step - loss: 0.1461 - accuracy: 0.9444 - val_loss: 0.1341 - val_accuracy: 1.0000\n",
      "Epoch 87/200\n",
      "108/108 [==============================] - 0s 383us/step - loss: 0.1443 - accuracy: 0.9444 - val_loss: 0.1404 - val_accuracy: 1.0000\n",
      "Epoch 88/200\n",
      "108/108 [==============================] - 0s 379us/step - loss: 0.1418 - accuracy: 0.9537 - val_loss: 0.1339 - val_accuracy: 1.0000\n",
      "Epoch 89/200\n",
      "108/108 [==============================] - 0s 358us/step - loss: 0.1399 - accuracy: 0.9537 - val_loss: 0.1334 - val_accuracy: 1.0000\n",
      "Epoch 90/200\n",
      "108/108 [==============================] - 0s 363us/step - loss: 0.1378 - accuracy: 0.9537 - val_loss: 0.1327 - val_accuracy: 1.0000\n",
      "Epoch 91/200\n",
      "108/108 [==============================] - 0s 372us/step - loss: 0.1360 - accuracy: 0.9537 - val_loss: 0.1310 - val_accuracy: 1.0000\n",
      "Epoch 92/200\n",
      "108/108 [==============================] - 0s 399us/step - loss: 0.1341 - accuracy: 0.9630 - val_loss: 0.1266 - val_accuracy: 1.0000\n",
      "Epoch 93/200\n",
      "108/108 [==============================] - 0s 382us/step - loss: 0.1317 - accuracy: 0.9630 - val_loss: 0.1270 - val_accuracy: 1.0000\n",
      "Epoch 94/200\n",
      "108/108 [==============================] - 0s 377us/step - loss: 0.1311 - accuracy: 0.9630 - val_loss: 0.1320 - val_accuracy: 1.0000\n",
      "Epoch 95/200\n",
      "108/108 [==============================] - 0s 350us/step - loss: 0.1281 - accuracy: 0.9630 - val_loss: 0.1270 - val_accuracy: 1.0000\n",
      "Epoch 96/200\n",
      "108/108 [==============================] - 0s 313us/step - loss: 0.1267 - accuracy: 0.9630 - val_loss: 0.1216 - val_accuracy: 1.0000\n",
      "Epoch 97/200\n",
      "108/108 [==============================] - 0s 326us/step - loss: 0.1250 - accuracy: 0.9630 - val_loss: 0.1247 - val_accuracy: 1.0000\n",
      "Epoch 98/200\n",
      "108/108 [==============================] - 0s 313us/step - loss: 0.1233 - accuracy: 0.9630 - val_loss: 0.1207 - val_accuracy: 1.0000\n",
      "Epoch 99/200\n",
      "108/108 [==============================] - 0s 342us/step - loss: 0.1224 - accuracy: 0.9630 - val_loss: 0.1203 - val_accuracy: 1.0000\n",
      "Epoch 100/200\n",
      "108/108 [==============================] - 0s 375us/step - loss: 0.1199 - accuracy: 0.9630 - val_loss: 0.1218 - val_accuracy: 1.0000\n",
      "Epoch 101/200\n",
      "108/108 [==============================] - 0s 371us/step - loss: 0.1185 - accuracy: 0.9630 - val_loss: 0.1184 - val_accuracy: 1.0000\n",
      "Epoch 102/200\n",
      "108/108 [==============================] - 0s 369us/step - loss: 0.1169 - accuracy: 0.9630 - val_loss: 0.1176 - val_accuracy: 1.0000\n",
      "Epoch 103/200\n",
      "108/108 [==============================] - 0s 343us/step - loss: 0.1162 - accuracy: 0.9630 - val_loss: 0.1221 - val_accuracy: 1.0000\n",
      "Epoch 104/200\n",
      "108/108 [==============================] - 0s 336us/step - loss: 0.1138 - accuracy: 0.9630 - val_loss: 0.1153 - val_accuracy: 1.0000\n",
      "Epoch 105/200\n",
      "108/108 [==============================] - 0s 374us/step - loss: 0.1127 - accuracy: 0.9630 - val_loss: 0.1143 - val_accuracy: 1.0000\n",
      "Epoch 106/200\n",
      "108/108 [==============================] - 0s 324us/step - loss: 0.1116 - accuracy: 0.9630 - val_loss: 0.1154 - val_accuracy: 1.0000\n",
      "Epoch 107/200\n",
      "108/108 [==============================] - 0s 348us/step - loss: 0.1099 - accuracy: 0.9630 - val_loss: 0.1116 - val_accuracy: 1.0000\n",
      "Epoch 108/200\n",
      "108/108 [==============================] - 0s 361us/step - loss: 0.1089 - accuracy: 0.9630 - val_loss: 0.1102 - val_accuracy: 1.0000\n",
      "Epoch 109/200\n",
      "108/108 [==============================] - 0s 371us/step - loss: 0.1073 - accuracy: 0.9630 - val_loss: 0.1074 - val_accuracy: 1.0000\n",
      "Epoch 110/200\n",
      "108/108 [==============================] - 0s 367us/step - loss: 0.1062 - accuracy: 0.9630 - val_loss: 0.1127 - val_accuracy: 1.0000\n",
      "Epoch 111/200\n",
      "108/108 [==============================] - 0s 392us/step - loss: 0.1047 - accuracy: 0.9630 - val_loss: 0.1105 - val_accuracy: 1.0000\n",
      "Epoch 112/200\n",
      "108/108 [==============================] - 0s 347us/step - loss: 0.1038 - accuracy: 0.9630 - val_loss: 0.1115 - val_accuracy: 1.0000\n",
      "Epoch 113/200\n",
      "108/108 [==============================] - 0s 412us/step - loss: 0.1026 - accuracy: 0.9630 - val_loss: 0.1064 - val_accuracy: 1.0000\n",
      "Epoch 114/200\n",
      "108/108 [==============================] - 0s 356us/step - loss: 0.1016 - accuracy: 0.9630 - val_loss: 0.1068 - val_accuracy: 1.0000\n",
      "Epoch 115/200\n",
      "108/108 [==============================] - 0s 373us/step - loss: 0.1002 - accuracy: 0.9630 - val_loss: 0.1052 - val_accuracy: 1.0000\n",
      "Epoch 116/200\n",
      "108/108 [==============================] - 0s 311us/step - loss: 0.1002 - accuracy: 0.9630 - val_loss: 0.0977 - val_accuracy: 1.0000\n",
      "Epoch 117/200\n",
      "108/108 [==============================] - 0s 314us/step - loss: 0.0981 - accuracy: 0.9630 - val_loss: 0.1025 - val_accuracy: 1.0000\n",
      "Epoch 118/200\n",
      "108/108 [==============================] - 0s 340us/step - loss: 0.0967 - accuracy: 0.9630 - val_loss: 0.1023 - val_accuracy: 1.0000\n",
      "Epoch 119/200\n",
      "108/108 [==============================] - 0s 495us/step - loss: 0.0954 - accuracy: 0.9630 - val_loss: 0.1011 - val_accuracy: 1.0000\n",
      "Epoch 120/200\n",
      "108/108 [==============================] - 0s 489us/step - loss: 0.0948 - accuracy: 0.9630 - val_loss: 0.0967 - val_accuracy: 1.0000\n",
      "Epoch 121/200\n",
      "108/108 [==============================] - 0s 394us/step - loss: 0.0936 - accuracy: 0.9630 - val_loss: 0.0996 - val_accuracy: 1.0000\n",
      "Epoch 122/200\n",
      "108/108 [==============================] - 0s 376us/step - loss: 0.0925 - accuracy: 0.9630 - val_loss: 0.0941 - val_accuracy: 1.0000\n",
      "Epoch 123/200\n",
      "108/108 [==============================] - 0s 377us/step - loss: 0.0911 - accuracy: 0.9630 - val_loss: 0.0940 - val_accuracy: 1.0000\n",
      "Epoch 124/200\n",
      "108/108 [==============================] - 0s 346us/step - loss: 0.0904 - accuracy: 0.9630 - val_loss: 0.0979 - val_accuracy: 1.0000\n",
      "Epoch 125/200\n",
      "108/108 [==============================] - 0s 371us/step - loss: 0.0894 - accuracy: 0.9630 - val_loss: 0.0937 - val_accuracy: 1.0000\n",
      "Epoch 126/200\n",
      "108/108 [==============================] - 0s 340us/step - loss: 0.0882 - accuracy: 0.9630 - val_loss: 0.0922 - val_accuracy: 1.0000\n",
      "Epoch 127/200\n",
      "108/108 [==============================] - 0s 353us/step - loss: 0.0878 - accuracy: 0.9630 - val_loss: 0.0974 - val_accuracy: 1.0000\n",
      "Epoch 128/200\n",
      "108/108 [==============================] - 0s 349us/step - loss: 0.0860 - accuracy: 0.9630 - val_loss: 0.0931 - val_accuracy: 1.0000\n",
      "Epoch 129/200\n",
      "108/108 [==============================] - 0s 349us/step - loss: 0.0847 - accuracy: 0.9630 - val_loss: 0.0928 - val_accuracy: 1.0000\n",
      "Epoch 130/200\n",
      "108/108 [==============================] - 0s 391us/step - loss: 0.0839 - accuracy: 0.9630 - val_loss: 0.0903 - val_accuracy: 1.0000\n",
      "Epoch 131/200\n",
      "108/108 [==============================] - 0s 388us/step - loss: 0.0826 - accuracy: 0.9630 - val_loss: 0.0911 - val_accuracy: 1.0000\n",
      "Epoch 132/200\n",
      "108/108 [==============================] - 0s 344us/step - loss: 0.0816 - accuracy: 0.9630 - val_loss: 0.0895 - val_accuracy: 1.0000\n",
      "Epoch 133/200\n",
      "108/108 [==============================] - 0s 343us/step - loss: 0.0805 - accuracy: 0.9630 - val_loss: 0.0933 - val_accuracy: 1.0000\n",
      "Epoch 134/200\n",
      "108/108 [==============================] - 0s 311us/step - loss: 0.0799 - accuracy: 0.9630 - val_loss: 0.0971 - val_accuracy: 1.0000\n",
      "Epoch 135/200\n",
      "108/108 [==============================] - 0s 320us/step - loss: 0.0795 - accuracy: 0.9630 - val_loss: 0.0872 - val_accuracy: 1.0000\n",
      "Epoch 136/200\n",
      "108/108 [==============================] - 0s 308us/step - loss: 0.0778 - accuracy: 0.9630 - val_loss: 0.0971 - val_accuracy: 1.0000\n",
      "Epoch 137/200\n",
      "108/108 [==============================] - 0s 313us/step - loss: 0.0763 - accuracy: 0.9630 - val_loss: 0.0934 - val_accuracy: 1.0000\n",
      "Epoch 138/200\n",
      "108/108 [==============================] - 0s 312us/step - loss: 0.0754 - accuracy: 0.9630 - val_loss: 0.0940 - val_accuracy: 1.0000\n",
      "Epoch 139/200\n",
      "108/108 [==============================] - 0s 308us/step - loss: 0.0747 - accuracy: 0.9630 - val_loss: 0.0948 - val_accuracy: 1.0000\n",
      "Epoch 140/200\n",
      "108/108 [==============================] - 0s 303us/step - loss: 0.0736 - accuracy: 0.9630 - val_loss: 0.0911 - val_accuracy: 1.0000\n",
      "Epoch 141/200\n",
      "108/108 [==============================] - 0s 334us/step - loss: 0.0731 - accuracy: 0.9630 - val_loss: 0.0883 - val_accuracy: 1.0000\n",
      "Epoch 142/200\n",
      "108/108 [==============================] - 0s 336us/step - loss: 0.0721 - accuracy: 0.9630 - val_loss: 0.0908 - val_accuracy: 1.0000\n",
      "Epoch 143/200\n",
      "108/108 [==============================] - 0s 361us/step - loss: 0.0716 - accuracy: 0.9630 - val_loss: 0.0889 - val_accuracy: 1.0000\n",
      "Epoch 144/200\n",
      "108/108 [==============================] - 0s 364us/step - loss: 0.0711 - accuracy: 0.9630 - val_loss: 0.0867 - val_accuracy: 1.0000\n",
      "Epoch 145/200\n",
      "108/108 [==============================] - 0s 363us/step - loss: 0.0705 - accuracy: 0.9722 - val_loss: 0.0894 - val_accuracy: 1.0000\n",
      "Epoch 146/200\n",
      "108/108 [==============================] - 0s 346us/step - loss: 0.0696 - accuracy: 0.9722 - val_loss: 0.0873 - val_accuracy: 1.0000\n",
      "Epoch 147/200\n",
      "108/108 [==============================] - 0s 329us/step - loss: 0.0700 - accuracy: 0.9722 - val_loss: 0.0907 - val_accuracy: 1.0000\n",
      "Epoch 148/200\n",
      "108/108 [==============================] - 0s 331us/step - loss: 0.0689 - accuracy: 0.9722 - val_loss: 0.0843 - val_accuracy: 1.0000\n",
      "Epoch 149/200\n",
      "108/108 [==============================] - 0s 331us/step - loss: 0.0680 - accuracy: 0.9722 - val_loss: 0.0836 - val_accuracy: 1.0000\n",
      "Epoch 150/200\n",
      "108/108 [==============================] - 0s 354us/step - loss: 0.0678 - accuracy: 0.9722 - val_loss: 0.0881 - val_accuracy: 1.0000\n",
      "Epoch 151/200\n",
      "108/108 [==============================] - 0s 307us/step - loss: 0.0673 - accuracy: 0.9722 - val_loss: 0.0863 - val_accuracy: 1.0000\n",
      "Epoch 152/200\n",
      "108/108 [==============================] - 0s 367us/step - loss: 0.0668 - accuracy: 0.9722 - val_loss: 0.0854 - val_accuracy: 1.0000\n",
      "Epoch 153/200\n",
      "108/108 [==============================] - 0s 379us/step - loss: 0.0664 - accuracy: 0.9722 - val_loss: 0.0809 - val_accuracy: 1.0000\n",
      "Epoch 154/200\n",
      "108/108 [==============================] - 0s 379us/step - loss: 0.0658 - accuracy: 0.9722 - val_loss: 0.0844 - val_accuracy: 1.0000\n",
      "Epoch 155/200\n",
      "108/108 [==============================] - 0s 332us/step - loss: 0.0657 - accuracy: 0.9722 - val_loss: 0.0813 - val_accuracy: 1.0000\n",
      "Epoch 156/200\n",
      "108/108 [==============================] - 0s 638us/step - loss: 0.0653 - accuracy: 0.9722 - val_loss: 0.0817 - val_accuracy: 1.0000\n",
      "Epoch 157/200\n",
      "108/108 [==============================] - 0s 367us/step - loss: 0.0648 - accuracy: 0.9722 - val_loss: 0.0839 - val_accuracy: 1.0000\n",
      "Epoch 158/200\n",
      "108/108 [==============================] - 0s 335us/step - loss: 0.0645 - accuracy: 0.9722 - val_loss: 0.0802 - val_accuracy: 1.0000\n",
      "Epoch 159/200\n",
      "108/108 [==============================] - 0s 353us/step - loss: 0.0638 - accuracy: 0.9722 - val_loss: 0.0794 - val_accuracy: 1.0000\n",
      "Epoch 160/200\n",
      "108/108 [==============================] - 0s 344us/step - loss: 0.0636 - accuracy: 0.9722 - val_loss: 0.0748 - val_accuracy: 1.0000\n",
      "Epoch 161/200\n",
      "108/108 [==============================] - 0s 359us/step - loss: 0.0634 - accuracy: 0.9722 - val_loss: 0.0785 - val_accuracy: 1.0000\n",
      "Epoch 162/200\n",
      "108/108 [==============================] - 0s 345us/step - loss: 0.0631 - accuracy: 0.9722 - val_loss: 0.0805 - val_accuracy: 1.0000\n",
      "Epoch 163/200\n",
      "108/108 [==============================] - 0s 319us/step - loss: 0.0637 - accuracy: 0.9722 - val_loss: 0.0708 - val_accuracy: 1.0000\n",
      "Epoch 164/200\n",
      "108/108 [==============================] - 0s 359us/step - loss: 0.0627 - accuracy: 0.9722 - val_loss: 0.0781 - val_accuracy: 1.0000\n",
      "Epoch 165/200\n",
      "108/108 [==============================] - 0s 345us/step - loss: 0.0619 - accuracy: 0.9722 - val_loss: 0.0787 - val_accuracy: 1.0000\n",
      "Epoch 166/200\n",
      "108/108 [==============================] - 0s 356us/step - loss: 0.0618 - accuracy: 0.9722 - val_loss: 0.0762 - val_accuracy: 1.0000\n",
      "Epoch 167/200\n",
      "108/108 [==============================] - 0s 385us/step - loss: 0.0617 - accuracy: 0.9722 - val_loss: 0.0778 - val_accuracy: 1.0000\n",
      "Epoch 168/200\n",
      "108/108 [==============================] - 0s 399us/step - loss: 0.0613 - accuracy: 0.9722 - val_loss: 0.0812 - val_accuracy: 1.0000\n",
      "Epoch 169/200\n",
      "108/108 [==============================] - 0s 365us/step - loss: 0.0626 - accuracy: 0.9722 - val_loss: 0.0733 - val_accuracy: 1.0000\n",
      "Epoch 170/200\n",
      "108/108 [==============================] - 0s 329us/step - loss: 0.0609 - accuracy: 0.9722 - val_loss: 0.0810 - val_accuracy: 1.0000\n",
      "Epoch 171/200\n",
      "108/108 [==============================] - 0s 340us/step - loss: 0.0610 - accuracy: 0.9722 - val_loss: 0.0728 - val_accuracy: 1.0000\n",
      "Epoch 172/200\n",
      "108/108 [==============================] - 0s 305us/step - loss: 0.0603 - accuracy: 0.9722 - val_loss: 0.0764 - val_accuracy: 1.0000\n",
      "Epoch 173/200\n",
      "108/108 [==============================] - 0s 326us/step - loss: 0.0597 - accuracy: 0.9722 - val_loss: 0.0785 - val_accuracy: 1.0000\n",
      "Epoch 174/200\n",
      "108/108 [==============================] - 0s 316us/step - loss: 0.0600 - accuracy: 0.9722 - val_loss: 0.0729 - val_accuracy: 1.0000\n",
      "Epoch 175/200\n",
      "108/108 [==============================] - 0s 347us/step - loss: 0.0600 - accuracy: 0.9722 - val_loss: 0.0793 - val_accuracy: 1.0000\n",
      "Epoch 176/200\n",
      "108/108 [==============================] - 0s 359us/step - loss: 0.0596 - accuracy: 0.9722 - val_loss: 0.0722 - val_accuracy: 1.0000\n",
      "Epoch 177/200\n",
      "108/108 [==============================] - 0s 349us/step - loss: 0.0586 - accuracy: 0.9722 - val_loss: 0.0745 - val_accuracy: 1.0000\n",
      "Epoch 178/200\n",
      "108/108 [==============================] - 0s 330us/step - loss: 0.0586 - accuracy: 0.9722 - val_loss: 0.0746 - val_accuracy: 1.0000\n",
      "Epoch 179/200\n",
      "108/108 [==============================] - 0s 350us/step - loss: 0.0583 - accuracy: 0.9722 - val_loss: 0.0739 - val_accuracy: 1.0000\n",
      "Epoch 180/200\n",
      "108/108 [==============================] - 0s 354us/step - loss: 0.0605 - accuracy: 0.9722 - val_loss: 0.0844 - val_accuracy: 1.0000\n",
      "Epoch 181/200\n",
      "108/108 [==============================] - 0s 358us/step - loss: 0.0593 - accuracy: 0.9722 - val_loss: 0.0724 - val_accuracy: 1.0000\n",
      "Epoch 182/200\n",
      "108/108 [==============================] - 0s 334us/step - loss: 0.0576 - accuracy: 0.9722 - val_loss: 0.0764 - val_accuracy: 1.0000\n",
      "Epoch 183/200\n",
      "108/108 [==============================] - 0s 333us/step - loss: 0.0573 - accuracy: 0.9722 - val_loss: 0.0766 - val_accuracy: 1.0000\n",
      "Epoch 184/200\n",
      "108/108 [==============================] - 0s 340us/step - loss: 0.0577 - accuracy: 0.9722 - val_loss: 0.0741 - val_accuracy: 1.0000\n",
      "Epoch 185/200\n",
      "108/108 [==============================] - 0s 345us/step - loss: 0.0572 - accuracy: 0.9722 - val_loss: 0.0725 - val_accuracy: 1.0000\n",
      "Epoch 186/200\n",
      "108/108 [==============================] - 0s 334us/step - loss: 0.0569 - accuracy: 0.9722 - val_loss: 0.0748 - val_accuracy: 1.0000\n",
      "Epoch 187/200\n",
      "108/108 [==============================] - 0s 374us/step - loss: 0.0568 - accuracy: 0.9722 - val_loss: 0.0717 - val_accuracy: 1.0000\n",
      "Epoch 188/200\n",
      "108/108 [==============================] - 0s 342us/step - loss: 0.0564 - accuracy: 0.9722 - val_loss: 0.0732 - val_accuracy: 1.0000\n",
      "Epoch 189/200\n",
      "108/108 [==============================] - 0s 382us/step - loss: 0.0567 - accuracy: 0.9722 - val_loss: 0.0711 - val_accuracy: 1.0000\n",
      "Epoch 190/200\n",
      "108/108 [==============================] - 0s 341us/step - loss: 0.0562 - accuracy: 0.9722 - val_loss: 0.0713 - val_accuracy: 1.0000\n",
      "Epoch 191/200\n",
      "108/108 [==============================] - 0s 350us/step - loss: 0.0562 - accuracy: 0.9722 - val_loss: 0.0693 - val_accuracy: 1.0000\n",
      "Epoch 192/200\n",
      "108/108 [==============================] - 0s 363us/step - loss: 0.0561 - accuracy: 0.9722 - val_loss: 0.0796 - val_accuracy: 1.0000\n",
      "Epoch 193/200\n",
      "108/108 [==============================] - 0s 375us/step - loss: 0.0561 - accuracy: 0.9722 - val_loss: 0.0753 - val_accuracy: 1.0000\n",
      "Epoch 194/200\n",
      "108/108 [==============================] - 0s 385us/step - loss: 0.0557 - accuracy: 0.9722 - val_loss: 0.0726 - val_accuracy: 1.0000\n",
      "Epoch 195/200\n",
      "108/108 [==============================] - 0s 382us/step - loss: 0.0554 - accuracy: 0.9722 - val_loss: 0.0727 - val_accuracy: 1.0000\n",
      "Epoch 196/200\n",
      "108/108 [==============================] - 0s 356us/step - loss: 0.0562 - accuracy: 0.9722 - val_loss: 0.0777 - val_accuracy: 1.0000\n",
      "Epoch 197/200\n",
      "108/108 [==============================] - 0s 355us/step - loss: 0.0553 - accuracy: 0.9722 - val_loss: 0.0703 - val_accuracy: 1.0000\n",
      "Epoch 198/200\n",
      "108/108 [==============================] - 0s 318us/step - loss: 0.0552 - accuracy: 0.9722 - val_loss: 0.0751 - val_accuracy: 1.0000\n",
      "Epoch 199/200\n",
      "108/108 [==============================] - 0s 293us/step - loss: 0.0547 - accuracy: 0.9815 - val_loss: 0.0730 - val_accuracy: 1.0000\n",
      "Epoch 200/200\n",
      "108/108 [==============================] - 0s 310us/step - loss: 0.0546 - accuracy: 0.9722 - val_loss: 0.0683 - val_accuracy: 1.0000\n"
     ]
    }
   ],
   "source": [
    "# Since it is a mulitclass classification problem, we will be using the softmax activation function\n",
    "classifier = Sequential()\n",
    "\n",
    "classifier.add(Dense(input_dim = 4, kernel_initializer = 'uniform', activation = 'relu', units = 8))\n",
    "classifier.add(Dense(kernel_initializer = 'uniform', activation = 'softmax', units = 3))\n",
    "\n",
    "classifier.compile(optimizer = 'adam', loss = 'categorical_crossentropy', metrics = ['accuracy'])\n",
    "history = classifier.fit(x_train, y_train, batch_size = 5, epochs = 200, validation_split = 0.1)\n",
    "\n",
    "\n",
    "#can be done with kfold validation"
   ]
  },
  {
   "cell_type": "code",
   "execution_count": 136,
   "metadata": {},
   "outputs": [],
   "source": [
    "hist_dict = history.history"
   ]
  },
  {
   "cell_type": "code",
   "execution_count": 137,
   "metadata": {},
   "outputs": [
    {
     "data": {
      "text/plain": [
       "dict_keys(['val_loss', 'val_accuracy', 'loss', 'accuracy'])"
      ]
     },
     "execution_count": 137,
     "metadata": {},
     "output_type": "execute_result"
    }
   ],
   "source": [
    "hist_dict.keys()"
   ]
  },
  {
   "cell_type": "code",
   "execution_count": 144,
   "metadata": {},
   "outputs": [
    {
     "data": {
      "text/plain": [
       "<matplotlib.legend.Legend at 0x7fdb8c4fabd0>"
      ]
     },
     "execution_count": 144,
     "metadata": {},
     "output_type": "execute_result"
    },
    {
     "data": {
      "image/png": "[encoded data removed]",
      "text/plain": [
       "<Figure size 432x288 with 1 Axes>"
      ]
     },
     "metadata": {
      "needs_background": "light"
     },
     "output_type": "display_data"
    }
   ],
   "source": [
    "acc = hist_dict['accuracy']\n",
    "val_acc = hist_dict['val_accuracy']\n",
    "\n",
    "plt.plot(acc, label ='acc')\n",
    "plt.plot(val_acc, label = 'val_acc')\n",
    "plt.legend()"
   ]
  },
  {
   "cell_type": "markdown",
   "metadata": {},
   "source": [
    "### Great!\n",
    "\n",
    "We manage to get an accuracy of 97% accuracy in predicting the flowers :D "
   ]
  }
 ],
 "metadata": {
  "kernelspec": {
   "display_name": "Python 3",
   "language": "python",
   "name": "python3"
  },
  "language_info": {
   "codemirror_mode": {
    "name": "ipython",
    "version": 3
   },
   "file_extension": ".py",
   "mimetype": "text/x-python",
   "name": "python",
   "nbconvert_exporter": "python",
   "pygments_lexer": "ipython3",
   "version": "3.7.4"
  }
 },
 "nbformat": 4,
 "nbformat_minor": 4
}
